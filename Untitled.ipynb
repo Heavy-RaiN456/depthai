{
 "cells": [
  {
   "cell_type": "code",
   "execution_count": 12,
   "id": "63a90f7c-64a4-4468-a69c-91c605349a3d",
   "metadata": {},
   "outputs": [],
   "source": [
    "import depthai as dai"
   ]
  },
  {
   "cell_type": "code",
   "execution_count": 14,
   "id": "ecd80c6e-353d-4cba-9df8-dcd8f55fc0c4",
   "metadata": {},
   "outputs": [
    {
     "data": {
      "text/plain": [
       "(True, <depthai.DeviceInfo at 0x7fcf4b06cf70>)"
      ]
     },
     "execution_count": 14,
     "metadata": {},
     "output_type": "execute_result"
    }
   ],
   "source": [
    "info = dai.Device.getAnyAvailableDevice()\n",
    "info"
   ]
  },
  {
   "cell_type": "code",
   "execution_count": null,
   "id": "15d9c4ad-d366-451b-aabe-a08aae987efe",
   "metadata": {},
   "outputs": [],
   "source": []
  }
 ],
 "metadata": {
  "kernelspec": {
   "display_name": "Python 3 (ipykernel)",
   "language": "python",
   "name": "python3"
  },
  "language_info": {
   "codemirror_mode": {
    "name": "ipython",
    "version": 3
   },
   "file_extension": ".py",
   "mimetype": "text/x-python",
   "name": "python",
   "nbconvert_exporter": "python",
   "pygments_lexer": "ipython3",
   "version": "3.9.4"
  }
 },
 "nbformat": 4,
 "nbformat_minor": 5
}
